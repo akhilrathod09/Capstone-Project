{
 "cells": [
  {
   "cell_type": "markdown",
   "metadata": {},
   "source": [
    "Importing Necessary Libraries"
   ]
  },
  {
   "cell_type": "code",
   "execution_count": 45,
   "metadata": {},
   "outputs": [],
   "source": [
    "import numpy as np\n",
    "import pandas as pd\n",
    "import tensorflow as tf\n",
    "import os\n",
    "import matplotlib.pyplot as plt\n",
    "import cv2\n",
    "from sklearn.model_selection import train_test_split, GridSearchCV\n",
    "from sklearn.preprocessing import StandardScaler\n",
    "from sklearn.metrics import r2_score, mean_squared_error\n",
    "from scipy.fftpack import fft2\n",
    "tf.__version__\n",
    "from tensorflow.keras.models import Sequential\n",
    "from tensorflow.keras.layers import Dense,Dropout\n",
    "from scikeras.wrappers import KerasRegressor\n",
    "from tensorflow.keras.callbacks import EarlyStopping,Callback\n",
    "\n",
    "\n"
   ]
  },
  {
   "cell_type": "markdown",
   "metadata": {},
   "source": [
    "Importing the Dataset"
   ]
  },
  {
   "cell_type": "code",
   "execution_count": null,
   "metadata": {},
   "outputs": [],
   "source": [
    "# Load the dataset\n",
    "image_folder = r\"C:\\Users\\91897\\Desktop\\CP302\\Speckle Images\\C_4\\Set2\\Corner\"\n",
    "csv_file = r\"C:\\Users\\91897\\Desktop\\CP302\\Corner Results\\Mean_speckle_contrast_values_Corner.csv\"\n",
    "\n",
    "# Loading Y(Mean Speckle Contrast) values from CSV\n",
    "df = pd.read_csv(csv_file)\n",
    "Y_values = df.iloc[1:92,22].values.astype(float)  # Taking Mean  column from row 3 to 92 (90 values)\n",
    "Y = [f\"{value:.4f}\" for value in Y_values] #Rounding off numbers to 4 decimal points.\n",
    "print('Mean Speckle Contrast values: ', Y)\n",
    "print('Number of Mean Speckle contrast values [Y]: ',len(Y))"
   ]
  },
  {
   "cell_type": "markdown",
   "metadata": {},
   "source": [
    "Importing the dataset for combined sets"
   ]
  },
  {
   "cell_type": "code",
   "execution_count": 81,
   "metadata": {},
   "outputs": [
    {
     "name": "stdout",
     "output_type": "stream",
     "text": [
      "Total number of images: 182\n",
      "Mean Speckle Contrast values: ['0.4364', '0.4152', '0.4176', '0.4080', '0.4194', '0.4010', '0.3899', '0.4042', '0.3980', '0.3907', '0.4083', '0.4091', '0.4188', '0.3964', '0.3738', '0.3837', '0.3911', '0.3899', '0.4011', '0.3735', '0.3820', '0.3953', '0.3748', '0.3886', '0.3914', '0.3790', '0.3725', '0.3688', '0.3828', '0.3765', '0.3780', '0.3968', '0.3732', '0.3969', '0.3884', '0.3891', '0.3702', '0.3789', '0.3741', '0.3810', '0.3717', '0.4028', '0.3675', '0.3738', '0.4151', '0.3833', '0.4180', '0.3692', '0.3657', '0.4263', '0.3652', '0.4239', '0.3667', '0.4267', '0.3608', '0.4140', '0.3792', '0.4019', '0.3795', '0.3621', '0.3726', '0.3724', '0.3801', '0.3900', '0.3604', '0.3485', '0.3712', '0.3653', '0.3905', '0.3710', '0.3648', '0.3774', '0.3798', '0.3725', '0.3525', '0.3599', '0.3677', '0.3697', '0.3495', '0.3676', '0.3823', '0.3624', '0.3592', '0.3677', '0.3473', '0.3677', '0.3716', '0.3529', '0.3970', '0.3587', '0.4364', '0.4152', '0.4176', '0.4080', '0.4194', '0.4010', '0.3899', '0.4042', '0.3980', '0.3907', '0.4083', '0.4091', '0.4188', '0.3964', '0.3738', '0.3837', '0.3911', '0.3899', '0.4011', '0.3735', '0.3820', '0.3953', '0.3748', '0.3886', '0.3914', '0.3790', '0.3725', '0.3688', '0.3828', '0.3765', '0.3780', '0.3968', '0.3732', '0.3969', '0.3884', '0.3891', '0.3702', '0.3789', '0.3741', '0.3810', '0.3717', '0.4028', '0.3675', '0.3738', '0.4151', '0.3833', '0.4180', '0.3692', '0.3657', '0.4263', '0.3652', '0.4239', '0.3667', '0.4267', '0.3608', '0.4140', '0.3792', '0.4019', '0.3795', '0.3621', '0.3726', '0.3724', '0.3801', '0.3900', '0.3604', '0.3485', '0.3712', '0.3653', '0.3905', '0.3710', '0.3648', '0.3774', '0.3798', '0.3725', '0.3525', '0.3599', '0.3677', '0.3697', '0.3495', '0.3676', '0.3823', '0.3624', '0.3592', '0.3677', '0.3473', '0.3677', '0.3716', '0.3529', '0.3970', '0.3587', '0.3676', '0.3676']\n",
      "Number of Mean Speckle contrast values [Y]: 182\n"
     ]
    }
   ],
   "source": [
    "from PIL import Image\n",
    "\n",
    "# Define the two directories for input images\n",
    "image_folder1 = r\"C:\\Users\\91897\\Desktop\\CP302\\Speckle Images\\C_3\\Set1\\Center\"\n",
    "image_folder2 = r\"C:\\Users\\91897\\Desktop\\CP302\\Speckle Images\\C_3\\Set3\\Center\"\n",
    "csv_file = r\"C:\\Users\\91897\\Desktop\\CP302\\Center Results\\Mean_speckle_contrast_values_Center.csv\"\n",
    "\n",
    "# Define resize dimensions for each folder\n",
    "resize_folder1 = (1095, 821)  # Dimensions for images in folder1\n",
    "resize_folder2 = (538, 404)  # Dimensions for images in folder2\n",
    "\n",
    "# function to load and resize images\n",
    "def load_and_resize_images(folder, resize_dims):\n",
    "    resized_images = []\n",
    "    for filename in os.listdir(folder):\n",
    "        if filename.endswith(\".png\"):\n",
    "            image_path = os.path.join(folder, filename)\n",
    "            img = Image.open(image_path)\n",
    "            img_resized = img.resize(resize_dims, Image.LANCZOS)\n",
    "            resized_images.append(img_resized)\n",
    "    return resized_images\n",
    "\n",
    "# Load and resize images from both folders with different dimensions\n",
    "resized_images1 = load_and_resize_images(image_folder1, resize_folder1)\n",
    "resized_images2 = load_and_resize_images(image_folder2, resize_folder2)\n",
    "\n",
    "# Combine resized images from both folders\n",
    "all_resized_images = resized_images1 + resized_images2\n",
    "\n",
    "print('Total number of images:', len(all_resized_images))\n",
    "\n",
    "# Load Y (Mean Speckle Contrast) values from CSV file\n",
    "df = pd.read_csv(csv_file)\n",
    "Y_values = df.iloc[1:183,9].values.astype(float)  \n",
    "Y = [f\"{value:.4f}\" for value in Y_values]\n",
    "\n",
    "print('Mean Speckle Contrast values:', Y)\n",
    "print('Number of Mean Speckle contrast values [Y]:', len(Y))\n",
    "\n"
   ]
  },
  {
   "cell_type": "markdown",
   "metadata": {},
   "source": [
    "FFT for combined data"
   ]
  },
  {
   "cell_type": "code",
   "execution_count": 82,
   "metadata": {},
   "outputs": [
    {
     "name": "stdout",
     "output_type": "stream",
     "text": [
      "Spatial domain frequency data for speckle images:  [[2266.745 2364.541 3824.405 ... 3824.405 2364.541 2266.745]\n",
      " [ 627.372 1743.901 2343.769 ... 2343.769 1743.901  627.372]\n",
      " [1959.694  470.725 2050.866 ... 2050.866  470.725 1959.694]\n",
      " ...\n",
      " [ 226.544  262.979  397.907 ...  397.907  262.979  226.544]\n",
      " [ 232.803  368.923  144.196 ...  144.196  368.923  232.803]\n",
      " [ 349.931  336.004  366.988 ...  366.988  336.004  349.931]]\n",
      "Shape of input data X: (182, 898995)\n",
      "No of Image samples fed: 182\n",
      "Compatible shapes and X and Y are matched\n"
     ]
    }
   ],
   "source": [
    "# Function to apply FFT and return magnitude spectrum\n",
    "def apply_fourier_transform(image):\n",
    "    f = np.fft.fft2(image)  # Compute the 2D FFT\n",
    "    fshift = np.fft.fftshift(f)  # Shift zero frequency components to the center\n",
    "    magnitude_spectrum = np.abs(fshift)  # Get the magnitude\n",
    "    return magnitude_spectrum\n",
    "\n",
    "# Prepare input data X\n",
    "X_values = []  # Arrays storing spatial data for each speckle image sample\n",
    "resize = (1095, 821)  # Define the desired size for all images (change as needed)\n",
    "\n",
    "# Loop through all resized images\n",
    "for img_resized in all_resized_images:\n",
    "    img_resized = np.array(img_resized.convert(\"L\"))  # Convert to grayscale array\n",
    "    img_resized = cv2.resize(img_resized, resize)  # Resize again if needed\n",
    "    img_fft = apply_fourier_transform(img_resized)  # Apply FFT\n",
    "    X_values.append(img_fft.flatten())  # Flatten the FFT result and store it\n",
    "\n",
    "# Convert to NumPy array\n",
    "X_values = np.array(X_values, dtype=np.float32)\n",
    "print('Spatial domain frequency data for speckle images: ', X_values)\n",
    "print('Shape of input data X:', X_values.shape)\n",
    "print('No of Image samples fed:', len(X_values))\n",
    "\n",
    "# Ensure that X and Y have compatible shapes\n",
    "if len(X_values) != len(Y):\n",
    "    raise ValueError(\"Mismatch between the number of images and the number of Y values.\")\n",
    "else:\n",
    "    print('Compatible shapes and X and Y are matched')\n",
    "\n",
    "# Initialize an empty list to store motion information features\n",
    "motion_info = []\n"
   ]
  },
  {
   "cell_type": "markdown",
   "metadata": {},
   "source": [
    "Combined data"
   ]
  },
  {
   "cell_type": "code",
   "execution_count": 83,
   "metadata": {},
   "outputs": [
    {
     "name": "stdout",
     "output_type": "stream",
     "text": [
      "Shape of Motion Information: (182, 4)\n",
      "Motion Information Features: [[0.000e+00 0.000e+00 0.000e+00 0.000e+00]\n",
      " [5.843e+03 1.294e+04 7.715e+05 1.505e+14]\n",
      " [5.843e+03 1.279e+04 6.264e+05 1.471e+14]\n",
      " [5.768e+03 1.278e+04 7.851e+05 1.468e+14]\n",
      " [5.748e+03 1.239e+04 4.999e+05 1.380e+14]\n",
      " [5.730e+03 1.209e+04 8.133e+05 1.313e+14]\n",
      " [5.755e+03 1.224e+04 6.314e+05 1.347e+14]\n",
      " [5.759e+03 1.281e+04 7.260e+05 1.475e+14]\n",
      " [5.747e+03 1.259e+04 6.550e+05 1.425e+14]\n",
      " [5.720e+03 1.203e+04 5.376e+05 1.302e+14]\n",
      " [5.782e+03 1.290e+04 6.459e+05 1.497e+14]\n",
      " [5.834e+03 1.329e+04 7.077e+05 1.589e+14]\n",
      " [5.808e+03 1.309e+04 8.551e+05 1.541e+14]\n",
      " [5.772e+03 1.299e+04 7.158e+05 1.516e+14]\n",
      " [5.785e+03 1.324e+04 6.929e+05 1.576e+14]\n",
      " [5.742e+03 1.250e+04 5.794e+05 1.404e+14]\n",
      " [5.702e+03 1.193e+04 5.864e+05 1.279e+14]\n",
      " [5.616e+03 1.119e+04 5.852e+05 1.126e+14]\n",
      " [5.803e+03 1.326e+04 1.004e+06 1.580e+14]\n",
      " [5.827e+03 1.351e+04 8.574e+05 1.641e+14]\n",
      " [5.770e+03 1.255e+04 7.419e+05 1.415e+14]\n",
      " [5.726e+03 1.242e+04 5.789e+05 1.387e+14]\n",
      " [5.852e+03 1.332e+04 7.045e+05 1.594e+14]\n",
      " [5.858e+03 1.346e+04 6.963e+05 1.630e+14]\n",
      " [5.711e+03 1.269e+04 8.179e+05 1.448e+14]\n",
      " [5.553e+03 1.141e+04 7.491e+05 1.171e+14]\n",
      " [5.519e+03 1.115e+04 6.429e+05 1.117e+14]\n",
      " [5.469e+03 1.057e+04 7.614e+05 1.005e+14]\n",
      " [5.632e+03 1.175e+04 5.328e+05 1.241e+14]\n",
      " [5.767e+03 1.266e+04 1.279e+06 1.441e+14]\n",
      " [5.720e+03 1.232e+04 8.180e+05 1.363e+14]\n",
      " [5.639e+03 1.159e+04 7.137e+05 1.208e+14]\n",
      " [5.646e+03 1.170e+04 6.217e+05 1.230e+14]\n",
      " [5.806e+03 1.300e+04 7.855e+05 1.519e+14]\n",
      " [5.788e+03 1.302e+04 6.985e+05 1.524e+14]\n",
      " [5.675e+03 1.216e+04 5.032e+05 1.329e+14]\n",
      " [5.689e+03 1.254e+04 7.319e+05 1.413e+14]\n",
      " [5.721e+03 1.281e+04 6.608e+05 1.476e+14]\n",
      " [5.647e+03 1.231e+04 6.696e+05 1.362e+14]\n",
      " [5.561e+03 1.113e+04 3.823e+05 1.114e+14]\n",
      " [5.670e+03 1.190e+04 6.451e+05 1.273e+14]\n",
      " [5.599e+03 1.170e+04 5.078e+05 1.231e+14]\n",
      " [5.672e+03 1.249e+04 6.393e+05 1.403e+14]\n",
      " [5.656e+03 1.191e+04 4.544e+05 1.276e+14]\n",
      " [5.807e+03 1.300e+04 1.076e+06 1.520e+14]\n",
      " [5.758e+03 1.300e+04 9.378e+05 1.521e+14]\n",
      " [5.556e+03 1.135e+04 4.719e+05 1.158e+14]\n",
      " [5.744e+03 1.316e+04 9.249e+05 1.556e+14]\n",
      " [5.798e+03 1.352e+04 8.808e+05 1.643e+14]\n",
      " [5.688e+03 1.265e+04 7.628e+05 1.439e+14]\n",
      " [5.643e+03 1.209e+04 4.808e+05 1.314e+14]\n",
      " [5.708e+03 1.224e+04 6.053e+05 1.346e+14]\n",
      " [5.649e+03 1.189e+04 6.494e+05 1.272e+14]\n",
      " [0.000e+00 0.000e+00 0.000e+00 0.000e+00]\n",
      " [5.636e+03 1.214e+04 6.993e+05 1.325e+14]\n",
      " [5.842e+03 1.422e+04 1.528e+06 1.818e+14]\n",
      " [5.809e+03 1.376e+04 1.218e+06 1.704e+14]\n",
      " [5.613e+03 1.190e+04 4.146e+05 1.272e+14]\n",
      " [5.490e+03 1.106e+04 4.158e+05 1.101e+14]\n",
      " [5.555e+03 1.152e+04 5.535e+05 1.193e+14]\n",
      " [5.648e+03 1.188e+04 4.369e+05 1.269e+14]\n",
      " [5.630e+03 1.215e+04 4.867e+05 1.327e+14]\n",
      " [5.578e+03 1.158e+04 5.582e+05 1.207e+14]\n",
      " [5.605e+03 1.160e+04 5.706e+05 1.211e+14]\n",
      " [5.686e+03 1.241e+04 5.272e+05 1.385e+14]\n",
      " [5.647e+03 1.232e+04 5.300e+05 1.364e+14]\n",
      " [5.779e+03 1.316e+04 1.031e+06 1.558e+14]\n",
      " [5.751e+03 1.312e+04 1.196e+06 1.549e+14]\n",
      " [5.689e+03 1.254e+04 6.259e+05 1.413e+14]\n",
      " [5.684e+03 1.261e+04 6.622e+05 1.430e+14]\n",
      " [5.547e+03 1.130e+04 5.929e+05 1.148e+14]\n",
      " [5.609e+03 1.161e+04 4.335e+05 1.211e+14]\n",
      " [5.678e+03 1.259e+04 1.259e+06 1.424e+14]\n",
      " [5.622e+03 1.223e+04 1.233e+06 1.344e+14]\n",
      " [5.510e+03 1.096e+04 3.708e+05 1.079e+14]\n",
      " [5.765e+03 1.280e+04 1.121e+06 1.473e+14]\n",
      " [8.141e+03 3.671e+04 1.413e+07 1.216e+15]\n",
      " [8.196e+03 3.666e+04 1.315e+07 1.214e+15]\n",
      " [8.486e+03 3.452e+04 1.257e+07 1.096e+15]\n",
      " [2.958e+03 1.579e+04 1.067e+06 2.243e+14]\n",
      " [3.265e+03 1.634e+04 1.085e+06 2.402e+14]\n",
      " [3.156e+03 1.504e+04 8.658e+05 2.038e+14]\n",
      " [2.928e+03 1.395e+04 8.686e+05 1.751e+14]\n",
      " [3.367e+03 1.548e+04 1.414e+06 2.160e+14]\n",
      " [3.548e+03 1.718e+04 1.398e+06 2.667e+14]\n",
      " [3.316e+03 1.560e+04 1.180e+06 2.197e+14]\n",
      " [3.236e+03 1.582e+04 9.451e+05 2.251e+14]\n",
      " [3.013e+03 1.587e+04 1.241e+06 2.266e+14]\n",
      " [8.395e+03 3.597e+04 1.357e+07 1.188e+15]\n",
      " [8.475e+03 3.576e+04 1.389e+07 1.176e+15]\n",
      " [8.657e+03 3.601e+04 1.382e+07 1.193e+15]\n",
      " [8.269e+03 4.583e+04 1.586e+07 1.911e+15]\n",
      " [2.895e+03 1.374e+04 8.837e+05 1.698e+14]\n",
      " [2.930e+03 1.357e+04 6.809e+05 1.657e+14]\n",
      " [2.929e+03 1.429e+04 8.774e+05 1.837e+14]\n",
      " [2.901e+03 1.403e+04 8.498e+05 1.770e+14]\n",
      " [2.807e+03 1.277e+04 6.560e+05 1.467e+14]\n",
      " [2.796e+03 1.241e+04 5.873e+05 1.386e+14]\n",
      " [2.979e+03 1.412e+04 8.389e+05 1.791e+14]\n",
      " [2.893e+03 1.348e+04 1.016e+06 1.633e+14]\n",
      " [2.913e+03 1.317e+04 9.267e+05 1.560e+14]\n",
      " [2.939e+03 1.327e+04 7.531e+05 1.583e+14]\n",
      " [2.901e+03 1.285e+04 5.621e+05 1.484e+14]\n",
      " [2.882e+03 1.350e+04 8.209e+05 1.638e+14]\n",
      " [2.911e+03 1.356e+04 7.036e+05 1.654e+14]\n",
      " [2.961e+03 1.418e+04 8.324e+05 1.807e+14]\n",
      " [2.978e+03 1.423e+04 7.702e+05 1.819e+14]\n",
      " [2.910e+03 1.322e+04 7.981e+05 1.570e+14]\n",
      " [2.857e+03 1.308e+04 6.238e+05 1.538e+14]\n",
      " [2.846e+03 1.305e+04 6.050e+05 1.532e+14]\n",
      " [2.904e+03 1.371e+04 9.322e+05 1.689e+14]\n",
      " [2.877e+03 1.283e+04 5.440e+05 1.479e+14]\n",
      " [2.969e+03 1.425e+04 6.660e+05 1.826e+14]\n",
      " [2.946e+03 1.420e+04 1.268e+06 1.814e+14]\n",
      " [2.872e+03 1.321e+04 8.815e+05 1.569e+14]\n",
      " [2.857e+03 1.299e+04 7.099e+05 1.516e+14]\n",
      " [2.880e+03 1.336e+04 8.864e+05 1.605e+14]\n",
      " [2.788e+03 1.235e+04 5.866e+05 1.370e+14]\n",
      " [2.866e+03 1.380e+04 8.706e+05 1.713e+14]\n",
      " [2.872e+03 1.352e+04 7.924e+05 1.644e+14]\n",
      " [2.842e+03 1.313e+04 8.287e+05 1.551e+14]\n",
      " [2.751e+03 1.251e+04 7.325e+05 1.406e+14]\n",
      " [2.769e+03 1.273e+04 5.301e+05 1.456e+14]\n",
      " [2.867e+03 1.377e+04 8.976e+05 1.704e+14]\n",
      " [2.840e+03 1.300e+04 5.722e+05 1.519e+14]\n",
      " [2.942e+03 1.376e+04 7.438e+05 1.701e+14]\n",
      " [2.950e+03 1.375e+04 5.983e+05 1.700e+14]\n",
      " [2.874e+03 1.360e+04 7.126e+05 1.663e+14]\n",
      " [2.749e+03 1.257e+04 7.590e+05 1.420e+14]\n",
      " [2.753e+03 1.231e+04 6.555e+05 1.361e+14]\n",
      " [2.816e+03 1.281e+04 6.586e+05 1.475e+14]\n",
      " [2.848e+03 1.360e+04 6.520e+05 1.662e+14]\n",
      " [2.799e+03 1.255e+04 6.274e+05 1.415e+14]\n",
      " [2.774e+03 1.246e+04 5.123e+05 1.395e+14]\n",
      " [2.755e+03 1.204e+04 4.927e+05 1.304e+14]\n",
      " [2.911e+03 1.367e+04 8.373e+05 1.680e+14]\n",
      " [2.965e+03 1.427e+04 9.933e+05 1.830e+14]\n",
      " [2.864e+03 1.365e+04 8.191e+05 1.675e+14]\n",
      " [2.776e+03 1.255e+04 6.571e+05 1.415e+14]\n",
      " [2.761e+03 1.239e+04 6.857e+05 1.379e+14]\n",
      " [2.742e+03 1.195e+04 5.771e+05 1.285e+14]\n",
      " [2.777e+03 1.218e+04 5.043e+05 1.334e+14]\n",
      " [2.806e+03 1.264e+04 5.121e+05 1.437e+14]\n",
      " [2.860e+03 1.342e+04 6.224e+05 1.618e+14]\n",
      " [2.759e+03 1.249e+04 6.065e+05 1.402e+14]\n",
      " [2.782e+03 1.221e+04 8.498e+05 1.340e+14]\n",
      " [2.904e+03 1.351e+04 8.217e+05 1.642e+14]\n",
      " [2.866e+03 1.282e+04 1.007e+06 1.478e+14]\n",
      " [2.911e+03 1.389e+04 8.484e+05 1.735e+14]\n",
      " [2.903e+03 1.375e+04 8.395e+05 1.699e+14]\n",
      " [2.783e+03 1.230e+04 5.794e+05 1.360e+14]\n",
      " [2.783e+03 1.263e+04 7.026e+05 1.434e+14]\n",
      " [2.827e+03 1.286e+04 6.631e+05 1.488e+14]\n",
      " [2.784e+03 1.282e+04 7.271e+05 1.478e+14]\n",
      " [2.735e+03 1.234e+04 5.864e+05 1.368e+14]\n",
      " [2.714e+03 1.232e+04 6.391e+05 1.365e+14]\n",
      " [2.737e+03 1.232e+04 5.823e+05 1.365e+14]\n",
      " [2.877e+03 1.306e+04 9.146e+05 1.534e+14]\n",
      " [2.930e+03 1.371e+04 8.421e+05 1.689e+14]\n",
      " [2.813e+03 1.285e+04 6.223e+05 1.485e+14]\n",
      " [2.704e+03 1.193e+04 6.530e+05 1.279e+14]\n",
      " [3.399e+03 3.218e+04 1.772e+07 9.309e+14]\n",
      " [3.421e+03 3.166e+04 1.723e+07 9.010e+14]\n",
      " [2.785e+03 1.223e+04 5.647e+05 1.345e+14]\n",
      " [2.849e+03 1.334e+04 9.721e+05 1.600e+14]\n",
      " [2.788e+03 1.217e+04 6.675e+05 1.331e+14]\n",
      " [2.796e+03 1.294e+04 6.678e+05 1.504e+14]\n",
      " [2.753e+03 1.232e+04 8.098e+05 1.364e+14]\n",
      " [2.838e+03 1.291e+04 8.037e+05 1.500e+14]\n",
      " [2.884e+03 1.360e+04 7.919e+05 1.663e+14]\n",
      " [2.914e+03 1.432e+04 9.857e+05 1.845e+14]\n",
      " [2.864e+03 1.421e+04 1.015e+06 1.816e+14]\n",
      " [2.764e+03 1.283e+04 7.236e+05 1.479e+14]\n",
      " [2.739e+03 1.247e+04 7.659e+05 1.397e+14]\n",
      " [2.768e+03 1.240e+04 6.280e+05 1.382e+14]\n",
      " [2.771e+03 1.252e+04 6.015e+05 1.408e+14]\n",
      " [2.789e+03 1.246e+04 5.519e+05 1.397e+14]\n",
      " [2.767e+03 1.211e+04 7.891e+05 1.318e+14]\n",
      " [2.794e+03 1.276e+04 6.608e+05 1.463e+14]\n",
      " [2.955e+03 1.467e+04 1.073e+06 1.936e+14]\n",
      " [2.963e+03 1.473e+04 1.005e+06 1.950e+14]\n",
      " [2.960e+03 1.508e+04 1.113e+06 2.045e+14]]\n"
     ]
    }
   ],
   "source": [
    "# Calculate motion features for each image frame\n",
    "for i in range(1, len(X_values)):\n",
    "    diff = X_values[i] - X_values[i - 1]  # Compute the difference between successive frames\n",
    "    mean_change = np.mean(np.abs(diff))\n",
    "    std_change = np.std(diff)\n",
    "    max_change = np.max(np.abs(diff))\n",
    "    energy_change = np.sum(diff**2)\n",
    "    motion_info.append([mean_change, std_change, max_change, energy_change])\n",
    "\n",
    "# Convert the motion information to a NumPy array\n",
    "motion_info = np.array(motion_info)\n",
    "\n",
    "# Append a row of zeros for the first frame\n",
    "motion_info = np.vstack(([0, 0, 0, 0], motion_info))\n",
    "\n",
    "# Display the shape and content of the motion information\n",
    "print('Shape of Motion Information:', motion_info.shape)\n",
    "print('Motion Information Features:', motion_info)\n"
   ]
  },
  {
   "cell_type": "markdown",
   "metadata": {},
   "source": [
    "Image Preprocessing and FFT"
   ]
  },
  {
   "cell_type": "code",
   "execution_count": null,
   "metadata": {},
   "outputs": [],
   "source": [
    "# Function to apply FFT and return magnitude spectrum\n",
    "def apply_fourier_transform(image):\n",
    "    f = np.fft.fft2(image)  # Compute the 2D FFT\n",
    "    fshift = np.fft.fftshift(f)  # Shift zero frequency components to the center\n",
    "    magnitude_spectrum = np.abs(fshift)  # Get the magnitude\n",
    "    return magnitude_spectrum\n",
    "\n",
    "# Prepare input data X\n",
    "X_values = []  # Arrays storing spatial data for each speckle image sample\n",
    "resize = (924,689)  # Define the desired size for all images (change as needed)\n",
    "\n",
    "# Loop through the images in the specified folder\n",
    "for image_file in sorted(os.listdir(image_folder)):\n",
    "    image_path = os.path.join(image_folder, image_file)\n",
    "    img = cv2.imread(image_path, cv2.IMREAD_GRAYSCALE)  # Load as grayscale\n",
    "    \n",
    "    if img is not None:\n",
    "        img_resized = cv2.resize(img, resize)\n",
    "        img_fft = apply_fourier_transform(img_resized)  # Apply FFT\n",
    "        X_values.append(img_fft.flatten())  # Flatten the FFT result and store it\n",
    "    \n",
    "# Convert to NumPy array\n",
    "X_values = np.array(X_values,dtype=np.float32)\n",
    "print('Spatial domain frequency data for speckle images: ',X_values)\n",
    "print('Shape of input data X:', X_values.shape)\n",
    "print('No of Image samples fed:',len(X_values))\n",
    "\n",
    "# Ensure that X and Y have compatible shapes\n",
    "if len(X_values) != len(Y_values):\n",
    "    raise ValueError(\"Mismatch between the number of images and the number of Y values.\")\n",
    "else:\n",
    "    print('Compatible shapes and X and Y are matched')              "
   ]
  },
  {
   "cell_type": "markdown",
   "metadata": {},
   "source": [
    "Motion Information"
   ]
  },
  {
   "cell_type": "code",
   "execution_count": null,
   "metadata": {},
   "outputs": [],
   "source": [
    "# Initialize an empty list to store motion information features\n",
    "motion_info = []\n",
    "\n",
    "# Calculate motion features for each image frame\n",
    "for i in range(1, len(X_values)):\n",
    "    # Compute the difference between successive frames\n",
    "    diff = X_values[i] - X_values[i - 1]\n",
    "    \n",
    "    # Calculate motion features\n",
    "    mean_change = np.mean(np.abs(diff))  # Mean absolute change\n",
    "    std_change = np.std(diff)  # Standard deviation of the change\n",
    "    max_change = np.max(np.abs(diff))  # Maximum absolute change\n",
    "    energy_change = np.sum(diff**2)  # Energy of the change\n",
    "\n",
    "    # Append the features to the motion_info list\n",
    "    motion_info.append([mean_change, std_change, max_change, energy_change])\n",
    "\n",
    "# Convert the motion information to a NumPy array\n",
    "motion_info = np.array(motion_info)\n",
    "\n",
    "# Since the first image does not have a preceding frame to compare, we can append zeros or mean values\n",
    "# Append a row of zeros for the first frame\n",
    "motion_info = np.vstack(([0, 0, 0, 0], motion_info))\n",
    "\n",
    "# Display the shape and content of the motion information\n",
    "print('Shape of Motion Information:', motion_info.shape)\n",
    "print('Motion Information Features:', motion_info)\n"
   ]
  },
  {
   "cell_type": "markdown",
   "metadata": {},
   "source": [
    "Data preprocessing"
   ]
  },
  {
   "cell_type": "code",
   "execution_count": 84,
   "metadata": {},
   "outputs": [
    {
     "name": "stdout",
     "output_type": "stream",
     "text": [
      "Compatible shapes and X and Y are matched\n",
      "Shape of X_train: (145, 4)\n",
      "Shape of y_train: (145,)\n",
      "Shape of X_test: (37, 4)\n",
      "Shape of y_test: (37,)\n"
     ]
    }
   ],
   "source": [
    "# Set seeds for reproducibility\n",
    "np.random.seed(42)\n",
    "tf.random.set_seed(42)\n",
    "# Convert Y from a list of strings to a NumPy array of floats\n",
    "Y = np.array(Y_values, dtype=np.float32)\n",
    "\n",
    "# Ensure that X and Y have compatible shapes\n",
    "if len(motion_info) != len(Y):\n",
    "    raise ValueError(\"Mismatch between the number of images and the number of Y values.\")\n",
    "else:\n",
    "    print('Compatible shapes and X and Y are matched')\n",
    "\n",
    "# Feature scaling\n",
    "scaler = StandardScaler()\n",
    "X_scaled = scaler.fit_transform(motion_info)\n",
    "\n",
    "\n",
    "# Splitting data (80% train, 20% test)\n",
    "X_train, X_test, y_train, y_test = train_test_split(X_scaled, Y, test_size=0.2, random_state=42)\n",
    "\n",
    "print('Shape of X_train:',X_train.shape)\n",
    "print('Shape of y_train:',y_train.shape)\n",
    "print('Shape of X_test:',X_test.shape)\n",
    "print('Shape of y_test:',y_test.shape)\n",
    "\n"
   ]
  },
  {
   "cell_type": "markdown",
   "metadata": {},
   "source": [
    "ANN with Hyperparameter tuning with GridsearchCV"
   ]
  },
  {
   "cell_type": "code",
   "execution_count": 85,
   "metadata": {},
   "outputs": [],
   "source": [
    "class R2ScoreCallback(Callback):\n",
    "    def __init__(self, X_val, y_val):\n",
    "        super().__init__()\n",
    "        self.X_val = X_val\n",
    "        self.y_val = y_val\n",
    "        self.r2_train = []\n",
    "        self.r2_val = []\n",
    "    \n",
    "    def on_epoch_end(self, epoch, logs=None):\n",
    "        y_train_pred = self.model.predict(self.model.validation_data[0])\n",
    "        y_val_pred = self.model.predict(self.X_val)\n",
    "        \n",
    "        r2_train = r2_score(self.model.validation_data[1], y_train_pred)\n",
    "        r2_val = r2_score(self.y_val, y_val_pred)\n",
    "        \n",
    "        self.r2_train.append(r2_train)\n",
    "        self.r2_val.append(r2_val)\n",
    "        print(f\"Epoch {epoch+1}: R2 Train={r2_train:.3f}, R2 Val={r2_val:.3f}\")\n",
    "\n",
    "# Define the ANN model\n",
    "def create_model(dropout_rate=0.0):\n",
    "    model = Sequential()\n",
    "    model.add(Dense(units=128, activation='relu', input_dim=X_train.shape[1]))  # Change as per your input shape\n",
    "    model.add(Dropout(rate=dropout_rate)) \n",
    "    model.add(Dense(units=64, activation='relu'))\n",
    "    model.add(Dropout(rate=dropout_rate))\n",
    "    model.add(Dense(units=1, activation='linear'))  # Assuming regression task\n",
    "    model.compile(optimizer='adam', loss='mean_squared_error')\n",
    "    return model\n",
    "\n",
    "# Wrapping the model with KerasRegressor\n",
    "model = KerasRegressor(model=create_model, verbose=0,dropout_rate=0.0)\n",
    "\n",
    "# Hyperparameter grid for tuning\n",
    "param_grid = {\n",
    "    'optimizer': ['adam', 'rmsprop'],\n",
    "    'dropout_rate': [0.0, 0.2, 0.4],\n",
    "    'epochs': [50,100],\n",
    "    'batch_size': [16, 32]\n",
    "}"
   ]
  },
  {
   "cell_type": "code",
   "execution_count": 100,
   "metadata": {},
   "outputs": [
    {
     "name": "stderr",
     "output_type": "stream",
     "text": [
      "C:\\Users\\91897\\AppData\\Roaming\\Python\\Python312\\site-packages\\keras\\src\\layers\\core\\dense.py:87: UserWarning: Do not pass an `input_shape`/`input_dim` argument to a layer. When using Sequential models, prefer using an `Input(shape)` object as the first layer in the model instead.\n",
      "  super().__init__(activity_regularizer=activity_regularizer, **kwargs)\n"
     ]
    }
   ],
   "source": [
    "from keras.layers import Dense, Dropout\n",
    "# Early stopping\n",
    "early_stopping = EarlyStopping(monitor='val_loss', patience=10)\n",
    "r2_callback = R2ScoreCallback(X_test, y_test)\n",
    "\n",
    "# Grid Search\n",
    "grid = GridSearchCV(estimator=model, param_grid=param_grid, scoring='neg_mean_squared_error', cv=3,n_jobs=-1)\n",
    "grid_result = grid.fit(X_train, y_train, callbacks=[early_stopping, r2_callback], validation_split=0.2)\n",
    "\n",
    "# Best model from Grid Search\n",
    "best_model = grid_result.best_estimator_"
   ]
  },
  {
   "cell_type": "markdown",
   "metadata": {},
   "source": [
    "Optimal hyperparameters"
   ]
  },
  {
   "cell_type": "code",
   "execution_count": 101,
   "metadata": {},
   "outputs": [
    {
     "name": "stdout",
     "output_type": "stream",
     "text": [
      "Best Parameters: {'batch_size': 32, 'dropout_rate': 0.0, 'epochs': 50, 'optimizer': 'rmsprop'}\n"
     ]
    }
   ],
   "source": [
    "best_params = grid_result.best_params_\n",
    "print(\"Best Parameters:\", best_params)\n"
   ]
  },
  {
   "cell_type": "markdown",
   "metadata": {},
   "source": [
    "Predictions on the Test set"
   ]
  },
  {
   "cell_type": "code",
   "execution_count": 102,
   "metadata": {},
   "outputs": [
    {
     "name": "stdout",
     "output_type": "stream",
     "text": [
      "[[0.387 0.373]\n",
      " [0.382 0.367]\n",
      " [0.383 0.36 ]\n",
      " [0.381 0.398]\n",
      " [0.383 0.379]\n",
      " [0.394 0.384]\n",
      " [0.384 0.391]\n",
      " [0.385 0.39 ]\n",
      " [0.381 0.379]\n",
      " [0.384 0.39 ]\n",
      " [0.392 0.401]\n",
      " [0.374 0.365]\n",
      " [0.383 0.371]\n",
      " [0.374 0.395]\n",
      " [0.387 0.383]\n",
      " [0.393 0.391]\n",
      " [0.39  0.424]\n",
      " [0.391 0.379]\n",
      " [0.375 0.404]\n",
      " [0.364 0.379]\n",
      " [0.379 0.347]\n",
      " [0.39  0.373]\n",
      " [0.384 0.361]\n",
      " [0.387 0.378]\n",
      " [0.395 0.391]\n",
      " [0.391 0.397]\n",
      " [0.391 0.373]\n",
      " [0.387 0.401]\n",
      " [0.368 0.36 ]\n",
      " [0.392 0.427]\n",
      " [0.391 0.359]\n",
      " [0.336 0.414]\n",
      " [0.359 0.436]\n",
      " [0.385 0.359]\n",
      " [0.385 0.371]\n",
      " [0.385 0.377]\n",
      " [0.389 0.377]]\n"
     ]
    }
   ],
   "source": [
    "y_pred = best_model.predict(X_test)\n",
    "np.set_printoptions(precision=3)\n",
    "print(np.concatenate((y_pred.reshape(len(y_pred),1), y_test.reshape(len(y_test),1)),1))\n"
   ]
  },
  {
   "cell_type": "markdown",
   "metadata": {},
   "source": [
    "Performance metrics"
   ]
  },
  {
   "cell_type": "code",
   "execution_count": 103,
   "metadata": {},
   "outputs": [
    {
     "name": "stdout",
     "output_type": "stream",
     "text": [
      "R2-score (test set): -0.552\n",
      "MSE(test set):  0.0006123376\n",
      "MAE(test set):  0.01801415\n"
     ]
    }
   ],
   "source": [
    "from sklearn.metrics import mean_absolute_error\n",
    "print('R2-score (test set): {:.3f}'.format(r2_score(y_test, y_pred)))\n",
    "print('MSE(test set): ',mean_squared_error(y_test,y_pred))\n",
    "print('MAE(test set): ',mean_absolute_error(y_test,y_pred))\n"
   ]
  },
  {
   "cell_type": "markdown",
   "metadata": {},
   "source": [
    "Plotting results"
   ]
  },
  {
   "cell_type": "code",
   "execution_count": 104,
   "metadata": {},
   "outputs": [
    {
     "data": {
      "image/png": "[encoded data removed]",
      "text/plain": [
       "<Figure size 800x600 with 1 Axes>"
      ]
     },
     "metadata": {},
     "output_type": "display_data"
    }
   ],
   "source": [
    "save_dir = r\"C:\\Users\\91897\\Desktop\\CP302\\ML Results\\Combined results\\ANN+GridsearchCV\"\n",
    "os.makedirs(save_dir, exist_ok=True)\n",
    "plt.figure(figsize=(8, 6))\n",
    "plt.scatter(y_test, y_pred, label='Predicted vs Actual',color = 'blue')\n",
    "plt.plot([min(y_test), max(y_test)], [min(y_test), max(y_test)], 'r--', label='y = x') #y=x line\n",
    "\n",
    "\n",
    "r2 = r2_score(y_test, y_pred)\n",
    "mse = mean_squared_error(y_test, y_pred)\n",
    "mae = mean_absolute_error(y_test, y_pred)\n",
    "\n",
    "# Best-fit line according to the plots(Regression)\n",
    "slope, intercept = np.polyfit(y_test.flatten(), y_pred.flatten(), 1)\n",
    "best_fit_line = slope * y_test + intercept\n",
    "\n",
    "plt.plot(y_test, best_fit_line, 'g--', \n",
    "         label=f'Best Fit (y = {slope:.2f}x + {intercept:.2f})\\nR² = {r2:.2f}, MSE = {mse:.4f}, MAE = {mae:.4f}')\n",
    "plt.xlabel('True Values')\n",
    "#plt.ylim(0.25,0.5)\n",
    "plt.ylabel('Predicted Values')\n",
    "plt.title('Actual vs Predicted')\n",
    "plt.legend()\n",
    "plt.savefig(os.path.join(save_dir, 'ActvsPred_C3_center.png'))\n",
    "plt.show()\n"
   ]
  },
  {
   "cell_type": "code",
   "execution_count": 105,
   "metadata": {},
   "outputs": [
    {
     "data": {
      "image/png": "[encoded data removed]",
      "text/plain": [
       "<Figure size 800x600 with 1 Axes>"
      ]
     },
     "metadata": {},
     "output_type": "display_data"
    }
   ],
   "source": [
    "plt.figure(figsize=(8, 6))\n",
    "plt.scatter(range(len(y_test)), y_test, color='blue', label='Real Values(y_test)')\n",
    "plt.scatter(range(len(y_pred)), y_pred, color='red', label='Predicted Values(y_pred)')\n",
    "plt.title('Scatter Plot of Predicted vs. Real Values for ANN')\n",
    "plt.ylabel('Values of Mean Speckle Contrast (y)')\n",
    "plt.xlabel('Sample No in test set')\n",
    "plt.legend()\n",
    "plt.grid(True)\n",
    "plt.savefig(os.path.join(save_dir, 'scatterplot_C3_center.png'))\n",
    "plt.show()\n"
   ]
  }
 ],
 "metadata": {
  "kernelspec": {
   "display_name": "Python 3",
   "language": "python",
   "name": "python3"
  },
  "language_info": {
   "codemirror_mode": {
    "name": "ipython",
    "version": 3
   },
   "file_extension": ".py",
   "mimetype": "text/x-python",
   "name": "python",
   "nbconvert_exporter": "python",
   "pygments_lexer": "ipython3",
   "version": "3.12.4"
  }
 },
 "nbformat": 4,
 "nbformat_minor": 2
}
